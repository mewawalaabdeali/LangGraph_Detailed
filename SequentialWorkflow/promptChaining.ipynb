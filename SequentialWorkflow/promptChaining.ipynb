{
 "cells": [
  {
   "cell_type": "code",
   "execution_count": 1,
   "id": "b0438749",
   "metadata": {},
   "outputs": [],
   "source": [
    "from langchain_openai import ChatOpenAI\n",
    "from typing import TypedDict\n",
    "from langgraph.graph import StateGraph, START, END\n",
    "from dotenv import load_dotenv"
   ]
  },
  {
   "cell_type": "code",
   "execution_count": 2,
   "id": "ca4a2143",
   "metadata": {},
   "outputs": [],
   "source": [
    "load_dotenv()\n",
    "model = ChatOpenAI()"
   ]
  },
  {
   "cell_type": "code",
   "execution_count": 3,
   "id": "9a8d5d8a",
   "metadata": {},
   "outputs": [],
   "source": [
    "class BlogState(TypedDict):\n",
    "    title: str\n",
    "    outline: str\n",
    "    content: str\n",
    "    rating: int\n",
    "    "
   ]
  },
  {
   "cell_type": "code",
   "execution_count": 4,
   "id": "06076f27",
   "metadata": {},
   "outputs": [],
   "source": [
    "def create_outline(state:BlogState)->BlogState:\n",
    "    #fetch title\n",
    "    title = state['title']\n",
    "\n",
    "    #call llm gen outline\n",
    "    prompt = f\"Generate a detailed outline for a blog on the given topic - {title}\"\n",
    "    outline = model.invoke(prompt)\n",
    "\n",
    "    #update state\n",
    "    state['outline'] = outline\n",
    "\n",
    "    return state"
   ]
  },
  {
   "cell_type": "code",
   "execution_count": 5,
   "id": "3e4e749b",
   "metadata": {},
   "outputs": [],
   "source": [
    "def create_blog(state:BlogState)->BlogState:\n",
    "    #fetch title and outline\n",
    "    title = state['title']\n",
    "    outline = state['outline']\n",
    "\n",
    "    #call llm\n",
    "    prompt = f\"Write a detailed blog on the title - {title} using the following outlinte \\n {outline}\"\n",
    "    content = model.invoke(prompt).content\n",
    "\n",
    "    #update state\n",
    "    state['content'] = content\n",
    "\n",
    "    return state"
   ]
  },
  {
   "cell_type": "code",
   "execution_count": 6,
   "id": "1cca5ac3",
   "metadata": {},
   "outputs": [],
   "source": [
    "def rating(state:BlogState)->BlogState:\n",
    "    #fetch title, outline and content\n",
    "    title = state['title']\n",
    "    outline = state['outline']\n",
    "    content = state['content']\n",
    "\n",
    "    #call llm\n",
    "    prompt = f\"Rate my blog {content} on the topic - {title} on the basis of following outline - {outline} out of 15\"\n",
    "    rating = model.invoke(prompt).content\n",
    "\n",
    "    state['rating'] = rating\n",
    "\n",
    "    return state"
   ]
  },
  {
   "cell_type": "code",
   "execution_count": 7,
   "id": "4539c781",
   "metadata": {},
   "outputs": [],
   "source": [
    "def check_rating(state:BlogState)-> BlogState:\n",
    "    #fetch rating\n",
    "    rating = state['rating']\n",
    "    if rating < 12:\n",
    "        return \"Fail\"\n",
    "    return \"Pass\"\n",
    "    "
   ]
  },
  {
   "cell_type": "code",
   "execution_count": null,
   "id": "ee9952e9",
   "metadata": {},
   "outputs": [
    {
     "data": {
      "image/png": "[encoded data removed]",
      "text/plain": [
       "<langgraph.graph.state.CompiledStateGraph object at 0x0000017E9BB55220>"
      ]
     },
     "execution_count": 8,
     "metadata": {},
     "output_type": "execute_result"
    }
   ],
   "source": [
    "graph = StateGraph(BlogState)\n",
    "\n",
    "#Create nodes\n",
    "graph.add_node('create_outline', create_outline)\n",
    "graph.add_node('create_blog', create_blog)\n",
    "graph.add_node('rating', rating)\n",
    "\n",
    "#Create edges\n",
    "graph.add_edge(START, 'create_outline')\n",
    "graph.add_edge('create_outline', 'create_blog')\n",
    "graph.add_edge('create_blog', 'rating')\n",
    "graph.add_conditional_edges('rating', check_rating,{\"Pass\":END, \"Fail\":'create_outline'} )\n",
    "\n",
    "#compile graph\n",
    "graph.compile()"
   ]
  }
 ],
 "metadata": {
  "kernelspec": {
   "display_name": "campusx",
   "language": "python",
   "name": "python3"
  },
  "language_info": {
   "codemirror_mode": {
    "name": "ipython",
    "version": 3
   },
   "file_extension": ".py",
   "mimetype": "text/x-python",
   "name": "python",
   "nbconvert_exporter": "python",
   "pygments_lexer": "ipython3",
   "version": "3.12.1"
  }
 },
 "nbformat": 4,
 "nbformat_minor": 5
}
