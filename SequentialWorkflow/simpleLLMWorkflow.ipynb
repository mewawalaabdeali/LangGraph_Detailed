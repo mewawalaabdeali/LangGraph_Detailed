{
 "cells": [
  {
   "cell_type": "code",
   "execution_count": 1,
   "id": "974bd256",
   "metadata": {},
   "outputs": [],
   "source": [
    "from langgraph.graph import START, StateGraph, END\n",
    "from langchain_openai import ChatOpenAI\n",
    "from typing import TypedDict\n",
    "from dotenv import load_dotenv"
   ]
  },
  {
   "cell_type": "code",
   "execution_count": 2,
   "id": "77569bf1",
   "metadata": {},
   "outputs": [
    {
     "data": {
      "text/plain": [
       "True"
      ]
     },
     "execution_count": 2,
     "metadata": {},
     "output_type": "execute_result"
    }
   ],
   "source": [
    "load_dotenv()"
   ]
  },
  {
   "cell_type": "code",
   "execution_count": 3,
   "id": "c4633c5f",
   "metadata": {},
   "outputs": [],
   "source": [
    "model = ChatOpenAI()"
   ]
  },
  {
   "cell_type": "code",
   "execution_count": 4,
   "id": "d4856e3e",
   "metadata": {},
   "outputs": [],
   "source": [
    "#create a state\n",
    "class LLMState(TypedDict):\n",
    "    question: str\n",
    "    answer: str"
   ]
  },
  {
   "cell_type": "code",
   "execution_count": 5,
   "id": "0e3c4a45",
   "metadata": {},
   "outputs": [],
   "source": [
    "def llm_qa(state:LLMState) -> LLMState:\n",
    "    #extract the question\n",
    "    question = state['question']\n",
    "    #form a prompt\n",
    "    prompt = f\"Answer the following question {question}\"\n",
    "\n",
    "    #Ask the question to llm\n",
    "    answer = model.invoke(prompt).content\n",
    "\n",
    "    #update the answer in the state\n",
    "    state['answer'] = answer\n",
    "\n",
    "    return state"
   ]
  },
  {
   "cell_type": "code",
   "execution_count": 7,
   "id": "7b17023d",
   "metadata": {},
   "outputs": [],
   "source": [
    "#Create our graph\n",
    "graph = StateGraph(LLMState)\n",
    "\n",
    "#add nodes\n",
    "graph.add_node('llm_qa', llm_qa)\n",
    "\n",
    "#add edge\n",
    "graph.add_edge(START, 'llm_qa')\n",
    "graph.add_edge('llm_qa', END)\n",
    "\n",
    "workflow = graph.compile()"
   ]
  },
  {
   "cell_type": "code",
   "execution_count": 8,
   "id": "2c3b025c",
   "metadata": {},
   "outputs": [
    {
     "name": "stdout",
     "output_type": "stream",
     "text": [
      "The scope of work for an AI Engineer in today's scenario is vast and includes a range of responsibilities such as designing and developing AI algorithms, creating machine learning models, implementing deep learning techniques, and deploying AI solutions in various industries. AI Engineers also work on optimizing AI models, improving algorithms, and integrating AI technologies with existing systems.\n",
      "\n",
      "The demand for AI Engineers is extremely high, as companies across various sectors are increasingly adopting AI technologies to improve their processes, gain insights from data, and enhance customer experiences. According to reports, the demand for AI Engineers has been steadily increasing over the years, with many companies actively looking to hire professionals with AI expertise.\n",
      "\n",
      "Overall, AI Engineers have a promising future in today's tech-driven world, with plenty of opportunities for growth and innovation in the field of artificial intelligence.\n"
     ]
    }
   ],
   "source": [
    "initial_state = {'question': \"Whats the Scope of work for AI Engineer in todays scenario and the demand\"}\n",
    "final_state = workflow.invoke(initial_state)\n",
    "print(final_state['answer'])"
   ]
  }
 ],
 "metadata": {
  "kernelspec": {
   "display_name": "campusx",
   "language": "python",
   "name": "python3"
  },
  "language_info": {
   "codemirror_mode": {
    "name": "ipython",
    "version": 3
   },
   "file_extension": ".py",
   "mimetype": "text/x-python",
   "name": "python",
   "nbconvert_exporter": "python",
   "pygments_lexer": "ipython3",
   "version": "3.12.1"
  }
 },
 "nbformat": 4,
 "nbformat_minor": 5
}
