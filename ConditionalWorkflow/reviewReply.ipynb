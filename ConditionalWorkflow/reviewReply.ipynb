{
 "cells": [
  {
   "cell_type": "code",
   "execution_count": 1,
   "id": "91abed59",
   "metadata": {},
   "outputs": [
    {
     "data": {
      "text/plain": [
       "True"
      ]
     },
     "execution_count": 1,
     "metadata": {},
     "output_type": "execute_result"
    }
   ],
   "source": [
    "from langgraph.graph import START, StateGraph, END\n",
    "from langchain_openai import ChatOpenAI\n",
    "from typing import TypedDict, Literal\n",
    "from dotenv import load_dotenv\n",
    "from pydantic import BaseModel, Field\n",
    "\n",
    "\n",
    "load_dotenv()"
   ]
  },
  {
   "cell_type": "code",
   "execution_count": 2,
   "id": "0e83522b",
   "metadata": {},
   "outputs": [],
   "source": [
    "model = ChatOpenAI(model='gpt-4o-mini')"
   ]
  },
  {
   "cell_type": "code",
   "execution_count": 3,
   "id": "ab09d460",
   "metadata": {},
   "outputs": [],
   "source": [
    "class SentimentSchema(BaseModel):\n",
    "    sentiment: Literal[\"positive\", \"negative\"] = Field(description=\"Sentiment of the review\")\n",
    "\n",
    "class DiagnosisSchema(BaseModel):\n",
    "    issuetype: Literal[\"UX\", \"Performance\", \"Bug\", \"Support\", \"Other\"] = Field(description=\"The category of the issue mentioned in the review\")\n",
    "    tone: Literal[\"angry\", \"frustated\", \"disappointed\", \"calm\"]=Field(description=\"The emotional tone expressed by the user\")\n",
    "    urgency: Literal[\"low\", \"medium\", \"high\"]=Field(description=\"How urgent or critical the issue appears to be\")"
   ]
  },
  {
   "cell_type": "code",
   "execution_count": 4,
   "id": "c764c4ea",
   "metadata": {},
   "outputs": [],
   "source": [
    "sentimentModel = model.with_structured_output(SentimentSchema)\n",
    "diagnosisModel = model.with_structured_output(DiagnosisSchema)"
   ]
  },
  {
   "cell_type": "code",
   "execution_count": 5,
   "id": "c480265b",
   "metadata": {},
   "outputs": [
    {
     "data": {
      "text/plain": [
       "DiagnosisSchema(issuetype='Support', tone='disappointed', urgency='medium')"
      ]
     },
     "execution_count": 5,
     "metadata": {},
     "output_type": "execute_result"
    }
   ],
   "source": [
    "prompt = f\"What is the sentiment of the following review: The software is good. Certain features remain challenging with no support\"\n",
    "sentimentModel.invoke(prompt).sentiment\n",
    "diagnosisModel.invoke(prompt)\n"
   ]
  },
  {
   "cell_type": "code",
   "execution_count": 6,
   "id": "1187e1d9",
   "metadata": {},
   "outputs": [],
   "source": [
    "class ReviewState(TypedDict):\n",
    "    review:str\n",
    "    sentiment:Literal[\"positive\", \"negative\"]\n",
    "    diagnosis: dict\n",
    "    response:str"
   ]
  },
  {
   "cell_type": "code",
   "execution_count": 7,
   "id": "0e4ae4e1",
   "metadata": {},
   "outputs": [],
   "source": [
    "def findsentiment(state:ReviewState):\n",
    "    prompt = f'For the following review, find the sentiment \\n {state['review']}'\n",
    "    sentiment = sentimentModel.invoke(prompt).sentiment\n",
    "\n",
    "    return {'sentiment':sentiment}\n",
    "\n",
    "def positiveresponse(state:ReviewState):\n",
    "    prompt = f\"\"\"Write a warm thank-You message in response to the this review:\n",
    "    \\n\\n \"{state['review']}\\\"\\n\n",
    "    Also, Kindly ask the user to leave feedback on our website.\"\"\"\n",
    "\n",
    "    response = model.invoke(prompt).content\n",
    "    return {'response':response}\n",
    "\n",
    "def check_sentiment(state:ReviewState) -> Literal[\"positiveresponse\",\"rundiagnosis\"]:\n",
    "    if state['sentiment'] =='positive':\n",
    "        return 'positiveresponse'\n",
    "    else:\n",
    "        return 'rundiagnosis'\n",
    "    \n",
    "def rundiagnosis(state:ReviewState):\n",
    "    prompt = f\"\"\"Diagnose this negative review: \\n\\n{state['review']}\\n\n",
    "            Return issue_type, tone and urgency.\"\"\" \n",
    "    response = diagnosisModel.invoke(prompt)\n",
    "    return {'diagnosis':response.model_dump()}\n",
    "\n",
    "def negativeresponse(state:ReviewState):\n",
    "    diagnosis = state['diagnosis']\n",
    "    prompt = f\"\"\"You are a support assistant.\n",
    "    The user had a '{diagnosis['issuetype']}' issue, sounded '{diagnosis['tone']}' and marked urgency as  '{diagnosis['urgency']}'.\n",
    "    Write an empathetic, helpful resolution message\"\"\"\n",
    "\n",
    "    response = model.invoke(prompt).content\n",
    "    return {'response':response}"
   ]
  },
  {
   "cell_type": "code",
   "execution_count": 8,
   "id": "0da6928e",
   "metadata": {},
   "outputs": [],
   "source": [
    "graph = StateGraph(ReviewState)\n",
    "\n",
    "graph.add_node('findsentiment', findsentiment)\n",
    "graph.add_node('positiveresponse', positiveresponse)\n",
    "graph.add_node('rundiagnosis', rundiagnosis)\n",
    "graph.add_node('negativeresponse', negativeresponse)\n",
    "\n",
    "#edges\n",
    "graph.add_edge(START, 'findsentiment')\n",
    "graph.add_conditional_edges('findsentiment', check_sentiment)\n",
    "graph.add_edge('positiveresponse', END)\n",
    "graph.add_edge('rundiagnosis', 'negativeresponse')\n",
    "graph.add_edge('negativeresponse', END)\n",
    "\n",
    "workflow = graph.compile()"
   ]
  },
  {
   "cell_type": "code",
   "execution_count": 9,
   "id": "eb0a4f74",
   "metadata": {},
   "outputs": [
    {
     "data": {
      "image/png": "[encoded data removed]",
      "text/plain": [
       "<langgraph.graph.state.CompiledStateGraph object at 0x0000017DEF098380>"
      ]
     },
     "execution_count": 9,
     "metadata": {},
     "output_type": "execute_result"
    }
   ],
   "source": [
    "workflow"
   ]
  },
  {
   "cell_type": "code",
   "execution_count": 10,
   "id": "d7ff84f4",
   "metadata": {},
   "outputs": [
    {
     "data": {
      "text/plain": [
       "{'review': 'I’ve been trying to log in for over an hour now, and the app keeps freezing on the authentication screen. I even tried reinstalling it, but no luck. This kind of bug is unacceptable, especially when it affects basic functionality.',\n",
       " 'sentiment': 'negative',\n",
       " 'diagnosis': {'issuetype': 'Bug', 'tone': 'frustated', 'urgency': 'high'},\n",
       " 'response': \"Subject: We're Here to Help with Your Bug Issue\\n\\nHi [User's Name],\\n\\nI hope this message finds you well. I understand how frustrating it can be to deal with a bug, especially when it feels urgent. I want to assure you that we're here to help and address your concerns as quickly as possible.\\n\\nCould you please provide me with a bit more detail about the issue you’re experiencing? Specifically, any steps to reproduce the bug, any error messages you're seeing, and the device or platform you’re using would be incredibly helpful. With this information, we can work together to find a resolution.\\n\\nThank you for your patience, and I’m committed to helping you resolve this issue swiftly.\\n\\nBest regards,  \\n[Your Name]  \\n[Your Position]  \\n[Your Contact Information]\"}"
      ]
     },
     "execution_count": 10,
     "metadata": {},
     "output_type": "execute_result"
    }
   ],
   "source": [
    "initial_state = {\n",
    "    'review':\"I’ve been trying to log in for over an hour now, and the app keeps freezing on the authentication screen. I even tried reinstalling it, but no luck. This kind of bug is unacceptable, especially when it affects basic functionality.\"\n",
    "}\n",
    "workflow.invoke(initial_state)"
   ]
  }
 ],
 "metadata": {
  "kernelspec": {
   "display_name": "campusx",
   "language": "python",
   "name": "python3"
  },
  "language_info": {
   "codemirror_mode": {
    "name": "ipython",
    "version": 3
   },
   "file_extension": ".py",
   "mimetype": "text/x-python",
   "name": "python",
   "nbconvert_exporter": "python",
   "pygments_lexer": "ipython3",
   "version": "3.12.1"
  }
 },
 "nbformat": 4,
 "nbformat_minor": 5
}
