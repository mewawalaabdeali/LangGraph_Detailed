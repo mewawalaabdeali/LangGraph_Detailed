{
 "cells": [
  {
   "cell_type": "code",
   "execution_count": 1,
   "id": "77ac7208",
   "metadata": {},
   "outputs": [],
   "source": [
    "from langgraph.graph import StateGraph, START, END\n",
    "from typing import TypedDict, Literal"
   ]
  },
  {
   "cell_type": "code",
   "execution_count": 2,
   "id": "bf658644",
   "metadata": {},
   "outputs": [],
   "source": [
    "class QuadState(TypedDict):\n",
    "    a:int\n",
    "    b:int\n",
    "    c:int\n",
    "\n",
    "    equation:str\n",
    "    discriminant:str\n",
    "    result:str"
   ]
  },
  {
   "cell_type": "code",
   "execution_count": 7,
   "id": "0755b918",
   "metadata": {},
   "outputs": [],
   "source": [
    "def show_equation(state:QuadState):\n",
    "    equation = f'{state[\"a\"]}x2 + {state[\"b\"]}x + {state[\"c\"]}'\n",
    "    return {'equation':equation}\n",
    "\n",
    "def calculate_discriminant(state:QuadState):\n",
    "    discriminant = state[\"b\"]**2 - (4*state[\"a\"]*state[\"c\"])\n",
    "    return {'discriminant':discriminant}\n",
    "\n",
    "def real_roots(state:QuadState):\n",
    "    root1 = (-state[\"b\"] + state[\"discriminant\"]**0.5)/(2*state[\"a\"])\n",
    "    root2 = (-state[\"b\"] - state[\"discriminant\"]**0.5)/(2*state[\"a\"])\n",
    "\n",
    "    result = f'The roots are {root1} and {root2}'\n",
    "\n",
    "    return{'result':result}\n",
    "\n",
    "def repeated_roots(state:QuadState):\n",
    "    root = (-state[\"b\"])/(2*state[\"a\"])\n",
    "    result = f'Only repeating root is {root}'\n",
    "\n",
    "    return {'result':result}\n",
    "\n",
    "def noreal_roots(state:QuadState):\n",
    "    result = f'No real roots'\n",
    "    return {'result':result}\n",
    "\n",
    "\n",
    "def check_condition(state:QuadState) -> Literal[\"real_roots\",\"repeated_roots\", \"noreal_roots\"]:\n",
    "    if state[\"discriminant\"]>0:\n",
    "        return \"real_roots\"\n",
    "    elif state[\"discriminant\"] == 0:\n",
    "        return \"repeated_roots\"\n",
    "    else:\n",
    "        return \"noreal_roots\""
   ]
  },
  {
   "cell_type": "code",
   "execution_count": 8,
   "id": "6dc5507c",
   "metadata": {},
   "outputs": [],
   "source": [
    "graph = StateGraph(QuadState)\n",
    "\n",
    "graph.add_node('show_equation', show_equation)\n",
    "graph.add_node('calculate_discriminant', calculate_discriminant)\n",
    "graph.add_node('real_roots', real_roots)\n",
    "graph.add_node('repeated_roots', repeated_roots)\n",
    "graph.add_node('noreal_roots', noreal_roots)\n",
    "\n",
    "graph.add_edge(START, 'show_equation')\n",
    "graph.add_edge('show_equation', 'calculate_discriminant')\n",
    "graph.add_conditional_edges('calculate_discriminant', check_condition)\n",
    "graph.add_edge('real_roots', END)\n",
    "graph.add_edge('repeated_roots', END)\n",
    "graph.add_edge('noreal_roots', END)\n",
    "\n",
    "workflow = graph.compile()"
   ]
  },
  {
   "cell_type": "code",
   "execution_count": 9,
   "id": "099bcbdd",
   "metadata": {},
   "outputs": [
    {
     "data": {
      "image/png": "[encoded data removed]",
      "text/plain": [
       "<langgraph.graph.state.CompiledStateGraph object at 0x0000021D077AFC20>"
      ]
     },
     "execution_count": 9,
     "metadata": {},
     "output_type": "execute_result"
    }
   ],
   "source": [
    "workflow"
   ]
  },
  {
   "cell_type": "code",
   "execution_count": 12,
   "id": "13e9ec9e",
   "metadata": {},
   "outputs": [
    {
     "data": {
      "text/plain": [
       "{'a': 2,\n",
       " 'b': -24,\n",
       " 'c': 2,\n",
       " 'equation': '2x2 + -24x + 2',\n",
       " 'discriminant': 560,\n",
       " 'result': 'The roots are 11.916079783099615 and 0.08392021690038387'}"
      ]
     },
     "execution_count": 12,
     "metadata": {},
     "output_type": "execute_result"
    }
   ],
   "source": [
    "initial_state = {\n",
    "    'a':2,\n",
    "    'b':-24,\n",
    "    'c':2\n",
    "}\n",
    "\n",
    "workflow.invoke(initial_state)"
   ]
  }
 ],
 "metadata": {
  "kernelspec": {
   "display_name": "campusx",
   "language": "python",
   "name": "python3"
  },
  "language_info": {
   "codemirror_mode": {
    "name": "ipython",
    "version": 3
   },
   "file_extension": ".py",
   "mimetype": "text/x-python",
   "name": "python",
   "nbconvert_exporter": "python",
   "pygments_lexer": "ipython3",
   "version": "3.12.1"
  }
 },
 "nbformat": 4,
 "nbformat_minor": 5
}
