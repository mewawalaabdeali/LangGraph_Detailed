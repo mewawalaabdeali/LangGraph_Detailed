{
 "cells": [
  {
   "cell_type": "code",
   "execution_count": 1,
   "id": "ddfa68c1",
   "metadata": {},
   "outputs": [],
   "source": [
    "from langgraph.graph import StateGraph, START, END\n",
    "from typing import TypedDict, Literal, Annotated\n",
    "from langchain_openai import ChatOpenAI\n",
    "from langchain_core.messages import SystemMessage, HumanMessage\n",
    "from langchain_anthropic import ChatAnthropic\n",
    "from langchain_groq import ChatGroq\n",
    "import operator"
   ]
  },
  {
   "cell_type": "code",
   "execution_count": 2,
   "id": "ab200a01",
   "metadata": {},
   "outputs": [],
   "source": [
    "generator_llm = ChatOpenAI(model = 'gpt-4o')\n",
    "evaluator_llm = ChatGroq(model = 'llama-3.3-70b-versatile')\n",
    "optimizer_llm = ChatAnthropic(model = 'claude-sonnet-4-20250514')"
   ]
  },
  {
   "cell_type": "code",
   "execution_count": 3,
   "id": "efff167e",
   "metadata": {},
   "outputs": [],
   "source": [
    "from pydantic import BaseModel, Field\n",
    "\n",
    "class TweetEvaluatioN(BaseModel):\n",
    "    evaluation: Literal[\"approved\", \"needs_improvement\"] = Field(..., description=\"Final evaluation result\")\n",
    "    feedback: str =Field(..., description=\"feedback for the tweet\")"
   ]
  },
  {
   "cell_type": "code",
   "execution_count": 4,
   "id": "f7eea012",
   "metadata": {},
   "outputs": [],
   "source": [
    "structured_evaluator = evaluator_llm.with_structured_output(TweetEvaluatioN)"
   ]
  },
  {
   "cell_type": "code",
   "execution_count": 5,
   "id": "7929a6a3",
   "metadata": {},
   "outputs": [],
   "source": [
    "class TweetState(TypedDict):\n",
    "    topic:str\n",
    "    tweet:str\n",
    "    evaluation: Literal[\"approved\", \"needs_improvement\"]\n",
    "    feedback: str\n",
    "    iteration: int\n",
    "    max_iteration:int\n",
    "\n",
    "    tweet_history: Annotated[list[str], operator.add]\n",
    "    feedback_history: Annotated[list[str], operator.add]"
   ]
  },
  {
   "cell_type": "code",
   "execution_count": 6,
   "id": "e4745871",
   "metadata": {},
   "outputs": [],
   "source": [
    "def generate_tweet(state:TweetState):\n",
    "    #prompt\n",
    "    messages =[\n",
    "        SystemMessage(content=\"You are a funny and clever Twitter/X influencer.\"),\n",
    "        HumanMessage(content=f\"\"\"\n",
    "        Write a short, original and hilarious tweet on the topic: \"{state['topic']}\"\n",
    "        Rules:\n",
    "            - Do NOT use question-answer format\n",
    "            - Max 280 characters.\n",
    "            - Use observational humor, irony, sarcasm, or cultural references.\n",
    "            - Think in meme logic, punchlines, or relatable takes.\n",
    "            - Use simple, day to day english.\"\"\")\n",
    "    ]\n",
    "\n",
    "    response = generator_llm.invoke(messages).content\n",
    "\n",
    "    return {'tweet':response, 'tweet_history':[response]}"
   ]
  },
  {
   "cell_type": "code",
   "execution_count": null,
   "id": "a2fda43f",
   "metadata": {},
   "outputs": [],
   "source": [
    "def evaluate_tweet(state:TweetState):\n",
    "\n",
    "    #prompt\n",
    "    messages = [\n",
    "        SystemMessage(content=\"You are a ruthless, no-laugh-given Twitter critic. You evaluate tweets based on humor, originality, virality and tweet format\"),\n",
    "        HumanMessage(content=f\"\"\"\n",
    "        Evaluate the following tweet:\n",
    "                Tweet: \"{state['tweet']}\"\n",
    "                Use the below criteria to evaluate:\n",
    "                - Originality: Is this fresh, or have you seen it a hundred times before?\n",
    "                - Humor: Did it genuinely make you smile, laugh or chuckle?\n",
    "                - Punchiness: Is it short, sharp, and scroll-stopping?\n",
    "                - Virality Potential - Would people retweet or share it?\n",
    "                - Format - Is it a well-formed tweet(not a setup-punchline joke, not a Q&A joke, and under 280 characters?)\n",
    "                \n",
    "                Auto Reject if :\n",
    "                - It's written in question-answer format(e.g., \"Why did...\" or \"What happens when...\")\n",
    "                -It exceeds 280 characters\n",
    "                -It reads lke a traditional setup-punchline joke\n",
    "                - Don't end with generic, throwaway or deflating lines that weaken the humor(e.g., \"Masterpieces of the auntie-uncle universe or vague summaries)\n",
    "                \n",
    "                ###Respond ONLY in structured format:\n",
    "                -evaluation: \"approved\" or \"needs_improvement\" \n",
    "                -feedback: Two lines explaining the strength and weakness\n",
    "                \"\"\")\n",
    "    ]\n",
    "\n",
    "    response = structured_evaluator.invoke(messages)\n",
    "    return {'evaluation':response.evaluation, 'feedback':response.feedback, 'feedback_history':[response.feedback]}"
   ]
  },
  {
   "cell_type": "code",
   "execution_count": null,
   "id": "39ce9e40",
   "metadata": {},
   "outputs": [],
   "source": [
    "    "
   ]
  }
 ],
 "metadata": {
  "kernelspec": {
   "display_name": "campusx",
   "language": "python",
   "name": "python3"
  },
  "language_info": {
   "codemirror_mode": {
    "name": "ipython",
    "version": 3
   },
   "file_extension": ".py",
   "mimetype": "text/x-python",
   "name": "python",
   "nbconvert_exporter": "python",
   "pygments_lexer": "ipython3",
   "version": "3.12.1"
  }
 },
 "nbformat": 4,
 "nbformat_minor": 5
}
