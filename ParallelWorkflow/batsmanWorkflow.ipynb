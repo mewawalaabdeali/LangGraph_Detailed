{
 "cells": [
  {
   "cell_type": "code",
   "execution_count": 10,
   "id": "a5bdaebb",
   "metadata": {},
   "outputs": [],
   "source": [
    "from langgraph.graph import StateGraph, START, END\n",
    "from typing import TypedDict"
   ]
  },
  {
   "cell_type": "code",
   "execution_count": 11,
   "id": "ae7792eb",
   "metadata": {},
   "outputs": [],
   "source": [
    "class BatsmanState(TypedDict):\n",
    "    runs : int\n",
    "    balls : int\n",
    "    fours : int\n",
    "    sixes : int\n",
    "\n",
    "    srate : float\n",
    "    bboud: float\n",
    "    boundper : float\n",
    "\n",
    "    summary : str\n",
    "    "
   ]
  },
  {
   "cell_type": "code",
   "execution_count": 12,
   "id": "eb9a2d78",
   "metadata": {},
   "outputs": [],
   "source": [
    "def strikeRate(state:BatsmanState):\n",
    "    strRate = (state['runs']/state['balls'])*100\n",
    "\n",
    "    return {'srate': strRate}"
   ]
  },
  {
   "cell_type": "code",
   "execution_count": 13,
   "id": "b6e4669f",
   "metadata": {},
   "outputs": [],
   "source": [
    "def ballsboundry(state:BatsmanState):\n",
    "    ballbound = (state['balls']/(state['fours'] + state['sixes']))\n",
    "\n",
    "    return {'bboud':ballbound}"
   ]
  },
  {
   "cell_type": "code",
   "execution_count": 14,
   "id": "74039106",
   "metadata": {},
   "outputs": [],
   "source": [
    "def boundryperc(state:BatsmanState):\n",
    "    boundryper = (((state['fours']*4) + (state['sixes']*6))/state['runs'])*100\n",
    "\n",
    "    return {'boundper': boundryper}"
   ]
  },
  {
   "cell_type": "code",
   "execution_count": 27,
   "id": "2ba6f0b0",
   "metadata": {},
   "outputs": [],
   "source": [
    "def summary(state:BatsmanState):\n",
    "    summary = f\"\"\"\n",
    "Strike Rate - {state['srate']}\\n\n",
    "Balls per Boundry - {state['bboud']} \\n\n",
    "Boundery percent - {state['boundper']}\n",
    "\"\"\"\n",
    "\n",
    "    return {'summary':summary}\n"
   ]
  },
  {
   "cell_type": "code",
   "execution_count": 28,
   "id": "577d1681",
   "metadata": {},
   "outputs": [],
   "source": [
    "## add nodes and edges:\n",
    "graph = StateGraph(BatsmanState)\n",
    "\n",
    "graph.add_node('strikeRate', strikeRate)\n",
    "graph.add_node('ballsboundry', ballsboundry)\n",
    "graph.add_node('boundryperc', boundryperc)\n",
    "graph.add_node('summary', summary)\n",
    "\n",
    "\n",
    "#Edges\n",
    "graph.add_edge(START, 'strikeRate')\n",
    "graph.add_edge(START, 'ballsboundry')\n",
    "graph.add_edge(START, 'boundryperc')\n",
    "\n",
    "graph.add_edge('strikeRate', 'summary')\n",
    "graph.add_edge('ballsboundry', 'summary')\n",
    "graph.add_edge('boundryperc', 'summary')\n",
    "\n",
    "graph.add_edge('summary', END)\n",
    "\n",
    "workflow = graph.compile()"
   ]
  },
  {
   "cell_type": "code",
   "execution_count": 29,
   "id": "fac4570a",
   "metadata": {},
   "outputs": [
    {
     "data": {
      "image/png": "[encoded data removed]",
      "text/plain": [
       "<langgraph.graph.state.CompiledStateGraph object at 0x000001C16816B1A0>"
      ]
     },
     "execution_count": 29,
     "metadata": {},
     "output_type": "execute_result"
    }
   ],
   "source": [
    "workflow"
   ]
  },
  {
   "cell_type": "code",
   "execution_count": 30,
   "id": "32de35e9",
   "metadata": {},
   "outputs": [
    {
     "data": {
      "text/plain": [
       "{'runs': 121,\n",
       " 'balls': 97,\n",
       " 'fours': 13,\n",
       " 'sixes': 5,\n",
       " 'srate': 124.74226804123711,\n",
       " 'bboud': 5.388888888888889,\n",
       " 'boundper': 67.76859504132231,\n",
       " 'summary': '\\nStrike Rate - 124.74226804123711\\n\\nBalls per Boundry - 5.388888888888889 \\n\\nBoundery percent - 67.76859504132231\\n'}"
      ]
     },
     "execution_count": 30,
     "metadata": {},
     "output_type": "execute_result"
    }
   ],
   "source": [
    "initial_state = {\n",
    "    'runs':121,\n",
    "    'balls':97,\n",
    "    'fours':13,\n",
    "    'sixes':5\n",
    "}\n",
    "\n",
    "workflow.invoke(initial_state)"
   ]
  }
 ],
 "metadata": {
  "kernelspec": {
   "display_name": "campusx",
   "language": "python",
   "name": "python3"
  },
  "language_info": {
   "codemirror_mode": {
    "name": "ipython",
    "version": 3
   },
   "file_extension": ".py",
   "mimetype": "text/x-python",
   "name": "python",
   "nbconvert_exporter": "python",
   "pygments_lexer": "ipython3",
   "version": "3.12.1"
  }
 },
 "nbformat": 4,
 "nbformat_minor": 5
}
