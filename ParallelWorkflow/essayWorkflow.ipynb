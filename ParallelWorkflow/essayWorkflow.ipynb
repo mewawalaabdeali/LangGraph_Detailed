{
 "cells": [
  {
   "cell_type": "code",
   "execution_count": 42,
   "id": "bfc59f2d",
   "metadata": {},
   "outputs": [],
   "source": [
    "from langgraph.graph import StateGraph, START, END\n",
    "from langchain_openai import ChatOpenAI\n",
    "from langchain_core.prompts import PromptTemplate\n",
    "from langchain_core.output_parsers import StrOutputParser\n",
    "from langchain_groq import ChatGroq\n",
    "from dotenv import load_dotenv\n",
    "from typing import TypedDict, Annotated\n",
    "from pydantic import BaseModel, Field\n",
    "import operator"
   ]
  },
  {
   "cell_type": "code",
   "execution_count": 43,
   "id": "0f2d052a",
   "metadata": {},
   "outputs": [],
   "source": [
    "load_dotenv()\n",
    "\n",
    "model_essay = ChatGroq(model=\"qwen/qwen3-32b\")\n",
    "model = ChatOpenAI(model='gpt-4o-mini')"
   ]
  },
  {
   "cell_type": "code",
   "execution_count": 44,
   "id": "da3447c3",
   "metadata": {},
   "outputs": [],
   "source": [
    "class EvaluationSchema(BaseModel):\n",
    "    feedback: str= Field(description='Detailed feedback for the essay')\n",
    "    score: int=Field(description='Score out of 10', ge=0, le=10)\n",
    "\n",
    "structed_model = model.with_structured_output(EvaluationSchema)"
   ]
  },
  {
   "cell_type": "code",
   "execution_count": 45,
   "id": "1319c1cf",
   "metadata": {},
   "outputs": [],
   "source": [
    "class UPSCState(TypedDict):\n",
    "    topic : str\n",
    "    essay:str\n",
    "    language_feedback: str\n",
    "    analysis_feedback: str\n",
    "    clarity_feedback: str\n",
    "    overall_feedback : str\n",
    "    individual_scores: Annotated[list[int], operator.add]\n",
    "    avg_score: float"
   ]
  },
  {
   "cell_type": "code",
   "execution_count": 46,
   "id": "2ef6666d",
   "metadata": {},
   "outputs": [],
   "source": [
    "prompt_essay = PromptTemplate(\n",
    "    template=\"\"\"Please write an essay on the topic: {topic}\n",
    "    Inclue good analogies and real world examples\"\"\",\n",
    "    input_variables=['topic']\n",
    ")\n",
    "parser = StrOutputParser()\n",
    "chain = prompt_essay | model | parser\n",
    "\n",
    "def gen_essay(state: UPSCState):\n",
    "    topic = state['topic']\n",
    "    essay = chain.invoke(topic)\n",
    "    return {'essay':essay}"
   ]
  },
  {
   "cell_type": "code",
   "execution_count": 47,
   "id": "e3314cc0",
   "metadata": {},
   "outputs": [],
   "source": [
    "def evaluate_language(state:UPSCState):\n",
    "    prompt = f\"Evaluate the language quality of the following essay and provide a feedback and assign score out of 10 \\n {state[\"essay\"]}\"\n",
    "    output = structed_model.invoke(prompt)\n",
    "\n",
    "    return {'language_feedback': output.feedback, \"individual_scores\":[output.score] }"
   ]
  },
  {
   "cell_type": "code",
   "execution_count": 48,
   "id": "3b3ecebb",
   "metadata": {},
   "outputs": [],
   "source": [
    "def evaluate_analysis(state:UPSCState):\n",
    "    prompt = f\"Evaluate the depth of analysis of the following essay and provide a feedback and assign score out of 10 \\n {state[\"essay\"]}\"\n",
    "    output = structed_model.invoke(prompt)\n",
    "\n",
    "    return {'analysis_feedback': output.feedback, \"individual_scores\":[output.score] }"
   ]
  },
  {
   "cell_type": "code",
   "execution_count": 49,
   "id": "166868dd",
   "metadata": {},
   "outputs": [],
   "source": [
    "def evaluate_thought(state:UPSCState):\n",
    "    prompt = f\"Evaluate the clarity of thought of the following essay and provide a feedback and assign score out of 10 \\n {state[\"essay\"]}\"\n",
    "    output = structed_model.invoke(prompt)\n",
    "\n",
    "    return {'clarity_feedback': output.feedback, \"individual_scores\":[output.score] }"
   ]
  },
  {
   "cell_type": "code",
   "execution_count": 50,
   "id": "a7d5c807",
   "metadata": {},
   "outputs": [],
   "source": [
    "def final_evaluation(state:UPSCState):\n",
    "    prompt = f'Based on following feedback, create a summarized feedback \\n language feedback - {state[\"language_feedback\"]} \\n depth of analysis feedback - {state[\"analysis_feedback\"]} \\n clarity of thought feedback - {state[\"clarity_feedback\"]}'\n",
    "    overall_feedback = model.invoke(prompt).content\n",
    "\n",
    "    avg_score = sum(state['individual_scores'])/len(state['individual_scores'])\n",
    "\n",
    "    return {'overall_feedback': overall_feedback, \"avg_score\":avg_score }"
   ]
  },
  {
   "cell_type": "code",
   "execution_count": 51,
   "id": "5ac80293",
   "metadata": {},
   "outputs": [],
   "source": [
    "graph = StateGraph(UPSCState)\n",
    "\n",
    "#add nodes\n",
    "graph.add_node('gen_essay', gen_essay)\n",
    "graph.add_node('evaluate_language', evaluate_language)\n",
    "graph.add_node('evaluate_analysis', evaluate_analysis)\n",
    "graph.add_node('evaluate_thought', evaluate_thought)\n",
    "graph.add_node('final_evaluation', final_evaluation)\n",
    "\n",
    "graph.add_edge(START, 'gen_essay')\n",
    "graph.add_edge('gen_essay', 'evaluate_language')\n",
    "graph.add_edge('gen_essay', 'evaluate_analysis')\n",
    "graph.add_edge('gen_essay', 'evaluate_thought')\n",
    "\n",
    "graph.add_edge('evaluate_language', 'final_evaluation')\n",
    "graph.add_edge('evaluate_analysis', 'final_evaluation')\n",
    "graph.add_edge('evaluate_thought', 'final_evaluation')\n",
    "\n",
    "graph.add_edge('final_evaluation', END)\n",
    "\n",
    "workflow = graph.compile()\n"
   ]
  },
  {
   "cell_type": "code",
   "execution_count": 52,
   "id": "db9ecb15",
   "metadata": {},
   "outputs": [
    {
     "data": {
      "image/png": "[encoded data removed]",
      "text/plain": [
       "<langgraph.graph.state.CompiledStateGraph object at 0x000002BA66943D70>"
      ]
     },
     "execution_count": 52,
     "metadata": {},
     "output_type": "execute_result"
    }
   ],
   "source": [
    "workflow"
   ]
  },
  {
   "cell_type": "code",
   "execution_count": 54,
   "id": "e0bdbb3b",
   "metadata": {},
   "outputs": [
    {
     "data": {
      "text/plain": [
       "{'topic': 'The scope of AI engineer and tool stack required',\n",
       " 'essay': \"## The Scope of AI Engineer and the Tool Stack Required\\n\\nArtificial Intelligence (AI) is no longer a vague futuristic concept; it is a defining force of our present. From Siri and Alexa to advanced chatbots and autonomous vehicles, AI permeates various sectors, including healthcare, finance, entertainment, and education. At the core of this transformative technology lies the AI engineer, a pivotal figure responsible for designing, developing, and implementing AI models and solutions. To comprehend the full scope of an AI engineer’s role and the requisite tool stack, we must delve into both the foundational tasks they undertake and the technology they leverage.\\n\\n### Understanding the Role of an AI Engineer\\n\\nAnalogous to a chef creating a recipe, an AI engineer synthesizes data, algorithms, and computational power to create AI solutions tailored to specific problems. Just as a chef must understand their ingredients and the techniques involved in cooking, an AI engineer must possess a deep understanding of data, statistics, and algorithms to build effective AI systems.\\n\\nThe scope of the AI engineer’s work is broad and encompasses various tasks, such as:\\n\\n1. **Data Collection and Preparation**: The quality of food in any dish depends on the freshness of the ingredients. Similarly, the quality of an AI model is heavily reliant on the data fed into it. AI engineers spend substantial time gathering, cleaning, and preparing data for analysis, recognizing that even the best algorithms cannot compensate for poor-quality input.\\n\\n2. **Model Selection and Training**: A chef may choose different cooking techniques for different recipes—baking for a cake, grilling for meat. Similarly, an AI engineer selects algorithms based on the problem they aim to solve. Whether employing supervised, unsupervised, or reinforcement learning, the model chosen must align with the nature of the data and the goals of the project.\\n\\n3. **Evaluation and Optimization**: Once a dish is prepared, chefs taste and refine it to achieve the ideal balance of flavors. In the same vein, AI engineers evaluate model performance using metrics like accuracy, precision, and recall. They continually refine models through techniques like hyperparameter tuning and cross-validation to maximize efficacy.\\n\\n4. **Deployment and Maintenance**: Finally, a dish might be served in a restaurant, but constant feedback is necessary to keep it appealing. Similarly, AI models must be deployed with ongoing maintenance and monitoring. AI engineers are tasked with ensuring that deployed models remain effective over time, adapting to new data and changes in the underlying systems.\\n\\n### Tool Stack of an AI Engineer\\n\\nThe efficacy of an AI engineer hinges significantly on the tools at their disposal. The tool stack typically includes programming languages, frameworks, libraries, and platforms that facilitate the entire lifecycle of AI development.\\n\\n1. **Programming Languages**: Python stands out as the most popular programming language in AI development due to its simplicity and readability. Just as a versatile chef may use various cooking utensils, an AI engineer employs Python alongside other languages such as R or Java to suit different tasks and projects.\\n\\n2. **Frameworks and Libraries**: An extensive range of frameworks and libraries empowers AI engineers to build sophisticated models efficiently. TensorFlow and PyTorch are two primary frameworks that allow for deep learning, akin to having a multi-functional oven that can bake, roast, and broil. Meanwhile, libraries like Scikit-learn and Keras simplify machine learning tasks, much like a finely-tuned blender that makes preparation easier.\\n\\n3. **Data Handling Tools**: Handling data is paramount in AI, and as such, tools like Pandas for data manipulation and NumPy for numerical computations are crucial. These tools simplify the process of cleaning and analyzing data, similar to well-designed kitchen appliances that expedite food preparation.\\n\\n4. **Visualization Tools**: To communicate findings and insights effectively, AI engineers leverage visualization tools such as Matplotlib and Seaborn. Just as a beautifully plated dish enhances the dining experience, clear and impactful data visualizations ensure that stakeholders can grasp complex insights easily.\\n\\n5. **Cloud Computing Platforms**: Given the large datasets and computationally intensive processes involved in AI, cloud platforms like AWS, Google Cloud, and Microsoft Azure provide the necessary infrastructure. They offer scalable computing power, much like a restaurant with a lot of kitchen space and high-capacity ovens that can handle bulk orders.\\n\\n### Real-World Examples\\n\\nThe role of AI engineers is evident in successful real-world applications. For instance, companies like Google leverage AI engineers to power search algorithms, enhancing user experience based on ranking, relevance, and personalization. By using TensorFlow, Google engineers build powerful deep learning models that analyze millions of data points to deliver accurate results.\\n\\nIn healthcare, AI engineers are crucial in developing predictive models that improve patient outcomes. For instance, DeepMind’s AI systems, which predict patient deterioration, rely on complex machine learning models trained on vast datasets. The success of these models results from the extensive efforts of AI engineers in data preparation and algorithm optimization.\\n\\n### Conclusion\\n\\nAs we stand at the crossroads of technological evolution shaped by AI, the scope of an AI engineer is both broad and multifaceted. Their responsibilities encompass the entire lifecycle of AI model development and deployment, akin to a chef orchestrating a culinary experience. Equipped with a diverse tool stack, from programming languages to cloud platforms, AI engineers are instrumental in translating complex data into practical, intelligent solutions that drive progress in numerous industries. The future of AI will undoubtedly continue to rely on their expertise, creativity, and commitment to continuous learning in this rapidly evolving field. Thus, the potential for innovation and impact remains limitless, as we harness the power of AI to tackle society's most pressing challenges.\",\n",
       " 'language_feedback': 'The essay provides a comprehensive overview of the role of AI engineers and the tools they use, employing a clear structure and engaging language. The use of analogies, such as comparing AI engineers to chefs, effectively illustrates complex concepts in a relatable manner. The language is formal yet accessible, and appropriate technical terminology is used accurately. The organization flows logically, with well-defined sections that enhance readability. However, the essay could benefit from smoother transitions between ideas and a deeper analysis of the challenges faced by AI engineers. Additionally, some phrases could be more concise to tighten the prose. Overall, the essay demonstrates good language quality and effectively communicates its purpose, but there is room for improvement in coherence and depth of analysis.',\n",
       " 'analysis_feedback': 'The essay presents a detailed and coherent analysis of the role of AI engineers and the associated tool stack. The use of analogies (comparing AI engineers to chefs) throughout makes the discussion relatable, aiding in understanding various complex concepts such as data collection, model selection, and the importance of tools. However, while the essay touches on key areas, it could delve deeper into specific examples of tools in action or discuss emerging trends in AI engineering. Providing a more expansive view of the future developments in AI or challenges faced by AI engineers would enhance the analysis. Overall, the essay is well-structured, but deeper explorations of the subtleties in the field would elevate the analysis further.',\n",
       " 'clarity_feedback': 'The essay presents a clear and well-structured exploration of the role of AI engineers and the tools they use. The analogies to cooking are effective in simplifying complex ideas, making it relatable and easier to understand for a broader audience. Each section logically flows into the next, from defining the role to detailing the tool stack, with concrete examples that enhance comprehension. The use of bullet points helps to break down information into digestible parts, allowing for better clarity. Overall, the language is accessible, and the structure supports clarity of thought. However, there could be more emphasis on the challenges faced in the field and how AI engineers overcome them, which would provide a more holistic view.',\n",
       " 'overall_feedback': '**Summarized Feedback:**\\n\\nThe essay offers a well-structured and engaging overview of the role of AI engineers and their tools, utilizing effective analogies—like comparing AI engineers to chefs—to clarify complex concepts. The language is formal yet accessible, with accurate technical terminology and a logical organization that enhances readability. However, improvements are needed in several areas: smoother transitions between ideas, more concise phrasing, and a deeper exploration of the challenges faced by AI engineers and specific examples of tools in action. While the analysis covers key areas, a broader perspective on emerging trends and future developments in AI engineering could add depth. Overall, the essay demonstrates good clarity of thought, yet further emphasis on challenges and solutions would provide a more comprehensive understanding of the field.',\n",
       " 'individual_scores': [8, 8, 9],\n",
       " 'avg_score': 8.333333333333334}"
      ]
     },
     "execution_count": 54,
     "metadata": {},
     "output_type": "execute_result"
    }
   ],
   "source": [
    "initial_state = {\n",
    "    'topic' : 'The scope of AI engineer and tool stack required'\n",
    "}\n",
    "workflow.invoke(initial_state)"
   ]
  }
 ],
 "metadata": {
  "kernelspec": {
   "display_name": "campusx",
   "language": "python",
   "name": "python3"
  },
  "language_info": {
   "codemirror_mode": {
    "name": "ipython",
    "version": 3
   },
   "file_extension": ".py",
   "mimetype": "text/x-python",
   "name": "python",
   "nbconvert_exporter": "python",
   "pygments_lexer": "ipython3",
   "version": "3.12.1"
  }
 },
 "nbformat": 4,
 "nbformat_minor": 5
}
